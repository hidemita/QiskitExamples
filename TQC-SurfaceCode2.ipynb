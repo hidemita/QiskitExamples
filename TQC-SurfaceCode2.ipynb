{
 "cells": [
  {
   "cell_type": "markdown",
   "metadata": {},
   "source": [
    "# トポロジカル量子計算　表面符号実験"
   ]
  },
  {
   "cell_type": "markdown",
   "metadata": {},
   "source": [
    "## importなど"
   ]
  },
  {
   "cell_type": "code",
   "execution_count": 1,
   "metadata": {},
   "outputs": [],
   "source": [
    "# Useful additional packages \n",
    "import matplotlib.pyplot as plt\n",
    "%matplotlib inline\n",
    "import numpy as np\n",
    "import math\n",
    "import random"
   ]
  },
  {
   "cell_type": "code",
   "execution_count": 2,
   "metadata": {},
   "outputs": [],
   "source": [
    "from qiskit import QuantumCircuit, ClassicalRegister, QuantumRegister, execute\n",
    "from qiskit.tools.visualization import circuit_drawer\n",
    "from qiskit import BasicAer, Aer"
   ]
  },
  {
   "attachments": {},
   "cell_type": "markdown",
   "metadata": {},
   "source": [
    "## 平面型表面符号(格子欠陥なし)\n",
    "\n",
    "<img src=\"defect-pair1.jpg\" width=\"500px\" />\n",
    "\n",
    "ビット番号は\n",
    "- データビット：0〜32\n",
    "- X スタビライザー測定用ビット：33〜46 (古典:0〜13に接続) \n",
    "- Z スタビライザー測定用ビット：47〜64 (古典:14〜31に接続)\n",
    "\n",
    "- 論理ビット測定用ビット: 古典32\n",
    "- Z スタビライザーの51, 60をOFFにして格子欠陥とする"
   ]
  },
  {
   "cell_type": "code",
   "execution_count": 3,
   "metadata": {},
   "outputs": [],
   "source": [
    "qc = QuantumCircuit(65, 32)\n",
    "\n",
    "# Z-type Stabilizers\n",
    "Zstab = [\n",
    "    [47, [0,3,5]],\n",
    "    [48, [1,3,4,6]],\n",
    "    [49, [2,4,7]],\n",
    "    [50, [5,8,10]],\n",
    "    [51, [6,8,9,11]],\n",
    "    [52, [7,9,12]],\n",
    "    [53, [10,13,15]],\n",
    "    [54, [11,13,14,16]],\n",
    "    [55, [12,14,17]],\n",
    "    [56, [15,18,20]],\n",
    "    [57, [16,18,19,21]],\n",
    "    [58, [17,19,22]],\n",
    "    [59, [20,23,25]],\n",
    "    [60, [21,23,24,26]],\n",
    "    [61, [22,24,27]],\n",
    "    [62, [25,28,30]],\n",
    "    [63, [26,28,29,31]],\n",
    "    [64, [27,29,32]]\n",
    "]\n",
    "\n",
    "# X-type Stabilizers\n",
    "Xstab = [\n",
    "    [33, [0,1,3]],\n",
    "    [34, [1,2,4]],\n",
    "    [35, [3,5,6,8]],\n",
    "    [36, [4,6,7,9]],\n",
    "    [37, [8,10,11,13]],\n",
    "    [38, [9,11,12,14]],\n",
    "    [39, [13,15,16,18]],\n",
    "    [40, [14,16,17,19]],\n",
    "    [41, [18,20,21,23]],\n",
    "    [42, [19,21,22,24]],\n",
    "    [43, [23,25,26,28]],\n",
    "    [44, [24,26,27,29]],\n",
    "    [45, [28,30,31]],\n",
    "    [46, [29,31,32]]\n",
    "]\n",
    "\n",
    "# Make stabilizer state\n",
    "Xinitialize = [\n",
    "    [0, 1, 3],\n",
    "    [2, 1, 4],\n",
    "    [5, 3, 6, 8],\n",
    "    [7, 4, 6, 9],\n",
    "    [10, 8, 11, 13],\n",
    "    [12, 9, 11, 14],\n",
    "    [15, 13, 16, 18],\n",
    "    [17, 14, 16, 19],\n",
    "    [20, 18, 21, 23],\n",
    "    [22, 19, 21, 24],\n",
    "    [25, 23, 26, 28],\n",
    "    [27, 24, 26, 29],\n",
    "    [30, 28, 31],\n",
    "    [32, 29, 31],\n",
    "]\n",
    "\n",
    "for x in Xinitialize:\n",
    "    q0 = x[0]\n",
    "    qc.h(q0)\n",
    "    for q1 in x[1:]:\n",
    "        qc.cx(q0, q1)\n",
    "\n",
    "# Place stabilizers\n",
    "for z in Zstab:\n",
    "    qc.h(z[0])\n",
    "    for q in z[1]:\n",
    "        qc.cz(z[0], q)\n",
    "    qc.h(z[0])\n",
    "\n",
    "for x in Xstab:\n",
    "    qc.h(x[0])\n",
    "    for q in x[1]:\n",
    "        qc.cx(x[0], q)\n",
    "    qc.h(x[0])\n",
    "\n",
    "# Measurement stabilizer errors\n",
    "for m, q in enumerate(Zstab + Xstab):\n",
    "    qc.measure(q[0], m)\n"
   ]
  },
  {
   "cell_type": "code",
   "execution_count": 4,
   "metadata": {},
   "outputs": [
    {
     "data": {
      "text/plain": [
       "{'00000000000000000000000000000000': 1000}"
      ]
     },
     "execution_count": 4,
     "metadata": {},
     "output_type": "execute_result"
    }
   ],
   "source": [
    "backend = Aer.get_backend('qasm_simulator')\n",
    "job = execute(qc, backend, shots=1000)\n",
    "job.result().get_counts(qc)"
   ]
  },
  {
   "attachments": {},
   "cell_type": "markdown",
   "metadata": {},
   "source": [
    "## 平面型表面符号(格子欠陥ペア)\n",
    "\n",
    "<img src=\"defect-pair2.jpg\" width=\"200px\" />\n",
    "\n",
    "ビット番号は\n",
    "- データビット：0〜32\n",
    "- X スタビライザー測定用ビット：33〜46 (古典:0〜13に接続) \n",
    "- Z スタビライザー測定用ビット：47〜64 (古典:14〜31に接続)\n",
    "\n",
    "- 論理ビット測定用ビット: 古典32\n",
    "- Z スタビライザーの51, 60をOFFにして格子欠陥とする"
   ]
  },
  {
   "cell_type": "code",
   "execution_count": 5,
   "metadata": {},
   "outputs": [
    {
     "data": {
      "text/plain": [
       "<qiskit.circuit.instructionset.InstructionSet at 0x7fdccd281550>"
      ]
     },
     "execution_count": 5,
     "metadata": {},
     "output_type": "execute_result"
    }
   ],
   "source": [
    "qc = QuantumCircuit(65, 32+1)  # classical bit-32 for logical bit test\n",
    "\n",
    "# Z-type Stabilizers\n",
    "Zstab = [\n",
    "    [47, [0,3,5]],\n",
    "    [48, [1,3,4,6]],\n",
    "    [49, [2,4,7]],\n",
    "    [50, [5,8,10]],\n",
    "    # [51, [6,8,9,11]],  #  defect Z-cut hole 1\n",
    "    [52, [7,9,12]],\n",
    "    [53, [10,13,15]],\n",
    "    [54, [11,13,14,16]],\n",
    "    [55, [12,14,17]],\n",
    "    [56, [15,18,20]],\n",
    "    [57, [16,18,19,21]],\n",
    "    [58, [17,19,22]],\n",
    "    [59, [20,23,25]],\n",
    "    #  [60, [21,23,24,26]],  # defect Z-cut hole 2\n",
    "    [61, [22,24,27]],\n",
    "    [62, [25,28,30]],\n",
    "    [63, [26,28,29,31]],\n",
    "    [64, [27,29,32]]\n",
    "]\n",
    "\n",
    "# X-type Stabilizers\n",
    "Xstab = [\n",
    "    [33, [0,1,3]],\n",
    "    [34, [1,2,4]],\n",
    "    [35, [3,5,6,8]],\n",
    "    [36, [4,6,7,9]],\n",
    "    [37, [8,10,11,13]],\n",
    "    [38, [9,11,12,14]],\n",
    "    [39, [13,15,16,18]],\n",
    "    [40, [14,16,17,19]],\n",
    "    [41, [18,20,21,23]],\n",
    "    [42, [19,21,22,24]],\n",
    "    [43, [23,25,26,28]],\n",
    "    [44, [24,26,27,29]],\n",
    "    [45, [28,30,31]],\n",
    "    [46, [29,31,32]]\n",
    "]\n",
    "\n",
    "# Make stabilizer state\n",
    "Xinitialize = [\n",
    "    [0, 1, 3],\n",
    "    [2, 1, 4],\n",
    "    [5, 3, 6, 8],\n",
    "    [7, 4, 6, 9],\n",
    "    [10, 8, 11, 13],\n",
    "    [12, 9, 11, 14],\n",
    "    [15, 13, 16, 18],\n",
    "    [17, 14, 16, 19],\n",
    "    [20, 18, 21, 23],\n",
    "    [22, 19, 21, 24],\n",
    "    [25, 23, 26, 28],\n",
    "    [27, 24, 26, 29],\n",
    "    [30, 28, 31],\n",
    "    [32, 29, 31],\n",
    "]\n",
    "\n",
    "for x in Xinitialize:\n",
    "    q0 = x[0]\n",
    "    qc.h(q0)\n",
    "    for q1 in x[1:]:\n",
    "        qc.cx(q0, q1)\n",
    "\n",
    "# Place stabilizers\n",
    "for z in Zstab:\n",
    "    qc.h(z[0])\n",
    "    for q in z[1]:\n",
    "        qc.cz(z[0], q)\n",
    "    qc.h(z[0])\n",
    "\n",
    "for x in Xstab:\n",
    "    qc.h(x[0])\n",
    "    for q in x[1]:\n",
    "        qc.cx(x[0], q)\n",
    "    qc.h(x[0])\n",
    "\n",
    "# logical X-operator\n",
    "logical_x = True\n",
    "if logical_x:\n",
    "    qc.x(11)\n",
    "    qc.x(16)\n",
    "    qc.x(21)\n",
    "\n",
    "# Measurement for logical bit of # [51, [6,8,9,11]],  #  defect Z-cut hole 1\n",
    "qc.h(51)\n",
    "qc.cz(51, 6)\n",
    "qc.cz(51, 8)\n",
    "qc.cz(51, 9)\n",
    "qc.cz(51, 11)\n",
    "qc.h(51)\n",
    "\n",
    "# Measurement stabilizer errors\n",
    "for m, q in enumerate(Zstab + Xstab):\n",
    "    qc.measure(q[0], m)\n",
    "\n",
    "# Z-Measurement of logical bit (Observe bit-32 change, with no stabilizer errors)\n",
    "qc.measure(51, 32)"
   ]
  },
  {
   "cell_type": "code",
   "execution_count": 6,
   "metadata": {},
   "outputs": [
    {
     "data": {
      "text/plain": [
       "{'100000000000000000000000000000000': 1000}"
      ]
     },
     "execution_count": 6,
     "metadata": {},
     "output_type": "execute_result"
    }
   ],
   "source": [
    "backend = Aer.get_backend('qasm_simulator')\n",
    "job = execute(qc, backend, shots=1000)\n",
    "job.result().get_counts(qc)"
   ]
  },
  {
   "cell_type": "code",
   "execution_count": null,
   "metadata": {},
   "outputs": [],
   "source": []
  }
 ],
 "metadata": {
  "kernelspec": {
   "display_name": "Python (Qiskitenv)",
   "language": "python",
   "name": "qiskitenv"
  },
  "language_info": {
   "codemirror_mode": {
    "name": "ipython",
    "version": 3
   },
   "file_extension": ".py",
   "mimetype": "text/x-python",
   "name": "python",
   "nbconvert_exporter": "python",
   "pygments_lexer": "ipython3",
   "version": "3.7.7"
  }
 },
 "nbformat": 4,
 "nbformat_minor": 2
}
